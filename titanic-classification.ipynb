{
 "cells": [
  {
   "cell_type": "code",
   "execution_count": 1,
   "id": "d6b6b19d",
   "metadata": {
    "_cell_guid": "b1076dfc-b9ad-4769-8c92-a6c4dae69d19",
    "_uuid": "8f2839f25d086af736a60e9eeb907d3b93b6e0e5",
    "execution": {
     "iopub.execute_input": "2024-07-04T14:15:00.346087Z",
     "iopub.status.busy": "2024-07-04T14:15:00.345663Z",
     "iopub.status.idle": "2024-07-04T14:15:02.761547Z",
     "shell.execute_reply": "2024-07-04T14:15:02.760193Z"
    },
    "papermill": {
     "duration": 2.430181,
     "end_time": "2024-07-04T14:15:02.764488",
     "exception": false,
     "start_time": "2024-07-04T14:15:00.334307",
     "status": "completed"
    },
    "tags": []
   },
   "outputs": [],
   "source": [
    "import numpy as np \n",
    "import pandas as pd \n",
    "import matplotlib.pyplot as plt\n",
    "import seaborn as sns"
   ]
  },
  {
   "cell_type": "markdown",
   "id": "039e60f2",
   "metadata": {
    "papermill": {
     "duration": 0.008787,
     "end_time": "2024-07-04T14:15:02.782042",
     "exception": false,
     "start_time": "2024-07-04T14:15:02.773255",
     "status": "completed"
    },
    "tags": []
   },
   "source": [
    "# Data understanding "
   ]
  },
  {
   "cell_type": "code",
   "execution_count": 2,
   "id": "e9f87c0d",
   "metadata": {
    "execution": {
     "iopub.execute_input": "2024-07-04T14:15:02.801587Z",
     "iopub.status.busy": "2024-07-04T14:15:02.800936Z",
     "iopub.status.idle": "2024-07-04T14:15:02.834035Z",
     "shell.execute_reply": "2024-07-04T14:15:02.832729Z"
    },
    "papermill": {
     "duration": 0.04669,
     "end_time": "2024-07-04T14:15:02.837296",
     "exception": false,
     "start_time": "2024-07-04T14:15:02.790606",
     "status": "completed"
    },
    "tags": []
   },
   "outputs": [],
   "source": [
    "data = pd.read_csv('/kaggle/input/titanic-dataset/Titanic-Dataset.csv', sep=',')"
   ]
  },
  {
   "cell_type": "code",
   "execution_count": 3,
   "id": "79a65e6c",
   "metadata": {
    "execution": {
     "iopub.execute_input": "2024-07-04T14:15:02.856321Z",
     "iopub.status.busy": "2024-07-04T14:15:02.855908Z",
     "iopub.status.idle": "2024-07-04T14:15:02.886868Z",
     "shell.execute_reply": "2024-07-04T14:15:02.885476Z"
    },
    "papermill": {
     "duration": 0.043957,
     "end_time": "2024-07-04T14:15:02.889896",
     "exception": false,
     "start_time": "2024-07-04T14:15:02.845939",
     "status": "completed"
    },
    "tags": []
   },
   "outputs": [
    {
     "data": {
      "text/html": [
       "<div>\n",
       "<style scoped>\n",
       "    .dataframe tbody tr th:only-of-type {\n",
       "        vertical-align: middle;\n",
       "    }\n",
       "\n",
       "    .dataframe tbody tr th {\n",
       "        vertical-align: top;\n",
       "    }\n",
       "\n",
       "    .dataframe thead th {\n",
       "        text-align: right;\n",
       "    }\n",
       "</style>\n",
       "<table border=\"1\" class=\"dataframe\">\n",
       "  <thead>\n",
       "    <tr style=\"text-align: right;\">\n",
       "      <th></th>\n",
       "      <th>PassengerId</th>\n",
       "      <th>Survived</th>\n",
       "      <th>Pclass</th>\n",
       "      <th>Name</th>\n",
       "      <th>Sex</th>\n",
       "      <th>Age</th>\n",
       "      <th>SibSp</th>\n",
       "      <th>Parch</th>\n",
       "      <th>Ticket</th>\n",
       "      <th>Fare</th>\n",
       "      <th>Cabin</th>\n",
       "      <th>Embarked</th>\n",
       "    </tr>\n",
       "  </thead>\n",
       "  <tbody>\n",
       "    <tr>\n",
       "      <th>0</th>\n",
       "      <td>1</td>\n",
       "      <td>0</td>\n",
       "      <td>3</td>\n",
       "      <td>Braund, Mr. Owen Harris</td>\n",
       "      <td>male</td>\n",
       "      <td>22.0</td>\n",
       "      <td>1</td>\n",
       "      <td>0</td>\n",
       "      <td>A/5 21171</td>\n",
       "      <td>7.2500</td>\n",
       "      <td>NaN</td>\n",
       "      <td>S</td>\n",
       "    </tr>\n",
       "    <tr>\n",
       "      <th>1</th>\n",
       "      <td>2</td>\n",
       "      <td>1</td>\n",
       "      <td>1</td>\n",
       "      <td>Cumings, Mrs. John Bradley (Florence Briggs Th...</td>\n",
       "      <td>female</td>\n",
       "      <td>38.0</td>\n",
       "      <td>1</td>\n",
       "      <td>0</td>\n",
       "      <td>PC 17599</td>\n",
       "      <td>71.2833</td>\n",
       "      <td>C85</td>\n",
       "      <td>C</td>\n",
       "    </tr>\n",
       "    <tr>\n",
       "      <th>2</th>\n",
       "      <td>3</td>\n",
       "      <td>1</td>\n",
       "      <td>3</td>\n",
       "      <td>Heikkinen, Miss. Laina</td>\n",
       "      <td>female</td>\n",
       "      <td>26.0</td>\n",
       "      <td>0</td>\n",
       "      <td>0</td>\n",
       "      <td>STON/O2. 3101282</td>\n",
       "      <td>7.9250</td>\n",
       "      <td>NaN</td>\n",
       "      <td>S</td>\n",
       "    </tr>\n",
       "    <tr>\n",
       "      <th>3</th>\n",
       "      <td>4</td>\n",
       "      <td>1</td>\n",
       "      <td>1</td>\n",
       "      <td>Futrelle, Mrs. Jacques Heath (Lily May Peel)</td>\n",
       "      <td>female</td>\n",
       "      <td>35.0</td>\n",
       "      <td>1</td>\n",
       "      <td>0</td>\n",
       "      <td>113803</td>\n",
       "      <td>53.1000</td>\n",
       "      <td>C123</td>\n",
       "      <td>S</td>\n",
       "    </tr>\n",
       "    <tr>\n",
       "      <th>4</th>\n",
       "      <td>5</td>\n",
       "      <td>0</td>\n",
       "      <td>3</td>\n",
       "      <td>Allen, Mr. William Henry</td>\n",
       "      <td>male</td>\n",
       "      <td>35.0</td>\n",
       "      <td>0</td>\n",
       "      <td>0</td>\n",
       "      <td>373450</td>\n",
       "      <td>8.0500</td>\n",
       "      <td>NaN</td>\n",
       "      <td>S</td>\n",
       "    </tr>\n",
       "  </tbody>\n",
       "</table>\n",
       "</div>"
      ],
      "text/plain": [
       "   PassengerId  Survived  Pclass  \\\n",
       "0            1         0       3   \n",
       "1            2         1       1   \n",
       "2            3         1       3   \n",
       "3            4         1       1   \n",
       "4            5         0       3   \n",
       "\n",
       "                                                Name     Sex   Age  SibSp  \\\n",
       "0                            Braund, Mr. Owen Harris    male  22.0      1   \n",
       "1  Cumings, Mrs. John Bradley (Florence Briggs Th...  female  38.0      1   \n",
       "2                             Heikkinen, Miss. Laina  female  26.0      0   \n",
       "3       Futrelle, Mrs. Jacques Heath (Lily May Peel)  female  35.0      1   \n",
       "4                           Allen, Mr. William Henry    male  35.0      0   \n",
       "\n",
       "   Parch            Ticket     Fare Cabin Embarked  \n",
       "0      0         A/5 21171   7.2500   NaN        S  \n",
       "1      0          PC 17599  71.2833   C85        C  \n",
       "2      0  STON/O2. 3101282   7.9250   NaN        S  \n",
       "3      0            113803  53.1000  C123        S  \n",
       "4      0            373450   8.0500   NaN        S  "
      ]
     },
     "execution_count": 3,
     "metadata": {},
     "output_type": "execute_result"
    }
   ],
   "source": [
    "data.head()"
   ]
  },
  {
   "cell_type": "code",
   "execution_count": 4,
   "id": "d566f5ee",
   "metadata": {
    "execution": {
     "iopub.execute_input": "2024-07-04T14:15:02.910405Z",
     "iopub.status.busy": "2024-07-04T14:15:02.909979Z",
     "iopub.status.idle": "2024-07-04T14:15:02.936907Z",
     "shell.execute_reply": "2024-07-04T14:15:02.935371Z"
    },
    "papermill": {
     "duration": 0.040691,
     "end_time": "2024-07-04T14:15:02.939912",
     "exception": false,
     "start_time": "2024-07-04T14:15:02.899221",
     "status": "completed"
    },
    "tags": []
   },
   "outputs": [
    {
     "name": "stdout",
     "output_type": "stream",
     "text": [
      "<class 'pandas.core.frame.DataFrame'>\n",
      "RangeIndex: 891 entries, 0 to 890\n",
      "Data columns (total 12 columns):\n",
      " #   Column       Non-Null Count  Dtype  \n",
      "---  ------       --------------  -----  \n",
      " 0   PassengerId  891 non-null    int64  \n",
      " 1   Survived     891 non-null    int64  \n",
      " 2   Pclass       891 non-null    int64  \n",
      " 3   Name         891 non-null    object \n",
      " 4   Sex          891 non-null    object \n",
      " 5   Age          714 non-null    float64\n",
      " 6   SibSp        891 non-null    int64  \n",
      " 7   Parch        891 non-null    int64  \n",
      " 8   Ticket       891 non-null    object \n",
      " 9   Fare         891 non-null    float64\n",
      " 10  Cabin        204 non-null    object \n",
      " 11  Embarked     889 non-null    object \n",
      "dtypes: float64(2), int64(5), object(5)\n",
      "memory usage: 83.7+ KB\n"
     ]
    }
   ],
   "source": [
    "data.info()"
   ]
  },
  {
   "cell_type": "code",
   "execution_count": 5,
   "id": "b9af6ca6",
   "metadata": {
    "execution": {
     "iopub.execute_input": "2024-07-04T14:15:02.960085Z",
     "iopub.status.busy": "2024-07-04T14:15:02.959606Z",
     "iopub.status.idle": "2024-07-04T14:15:02.970905Z",
     "shell.execute_reply": "2024-07-04T14:15:02.969705Z"
    },
    "papermill": {
     "duration": 0.024364,
     "end_time": "2024-07-04T14:15:02.973315",
     "exception": false,
     "start_time": "2024-07-04T14:15:02.948951",
     "status": "completed"
    },
    "tags": []
   },
   "outputs": [
    {
     "data": {
      "text/plain": [
       "PassengerId      0\n",
       "Survived         0\n",
       "Pclass           0\n",
       "Name             0\n",
       "Sex              0\n",
       "Age            177\n",
       "SibSp            0\n",
       "Parch            0\n",
       "Ticket           0\n",
       "Fare             0\n",
       "Cabin          687\n",
       "Embarked         2\n",
       "dtype: int64"
      ]
     },
     "execution_count": 5,
     "metadata": {},
     "output_type": "execute_result"
    }
   ],
   "source": [
    "data.isnull().sum()"
   ]
  },
  {
   "cell_type": "code",
   "execution_count": 6,
   "id": "4657d072",
   "metadata": {
    "execution": {
     "iopub.execute_input": "2024-07-04T14:15:02.994363Z",
     "iopub.status.busy": "2024-07-04T14:15:02.993876Z",
     "iopub.status.idle": "2024-07-04T14:15:03.030950Z",
     "shell.execute_reply": "2024-07-04T14:15:03.029703Z"
    },
    "papermill": {
     "duration": 0.050955,
     "end_time": "2024-07-04T14:15:03.033763",
     "exception": false,
     "start_time": "2024-07-04T14:15:02.982808",
     "status": "completed"
    },
    "tags": []
   },
   "outputs": [
    {
     "data": {
      "text/html": [
       "<div>\n",
       "<style scoped>\n",
       "    .dataframe tbody tr th:only-of-type {\n",
       "        vertical-align: middle;\n",
       "    }\n",
       "\n",
       "    .dataframe tbody tr th {\n",
       "        vertical-align: top;\n",
       "    }\n",
       "\n",
       "    .dataframe thead th {\n",
       "        text-align: right;\n",
       "    }\n",
       "</style>\n",
       "<table border=\"1\" class=\"dataframe\">\n",
       "  <thead>\n",
       "    <tr style=\"text-align: right;\">\n",
       "      <th></th>\n",
       "      <th>PassengerId</th>\n",
       "      <th>Survived</th>\n",
       "      <th>Pclass</th>\n",
       "      <th>Age</th>\n",
       "      <th>SibSp</th>\n",
       "      <th>Parch</th>\n",
       "      <th>Fare</th>\n",
       "    </tr>\n",
       "  </thead>\n",
       "  <tbody>\n",
       "    <tr>\n",
       "      <th>count</th>\n",
       "      <td>891.000000</td>\n",
       "      <td>891.000000</td>\n",
       "      <td>891.000000</td>\n",
       "      <td>714.000000</td>\n",
       "      <td>891.000000</td>\n",
       "      <td>891.000000</td>\n",
       "      <td>891.000000</td>\n",
       "    </tr>\n",
       "    <tr>\n",
       "      <th>mean</th>\n",
       "      <td>446.000000</td>\n",
       "      <td>0.383838</td>\n",
       "      <td>2.308642</td>\n",
       "      <td>29.699118</td>\n",
       "      <td>0.523008</td>\n",
       "      <td>0.381594</td>\n",
       "      <td>32.204208</td>\n",
       "    </tr>\n",
       "    <tr>\n",
       "      <th>std</th>\n",
       "      <td>257.353842</td>\n",
       "      <td>0.486592</td>\n",
       "      <td>0.836071</td>\n",
       "      <td>14.526497</td>\n",
       "      <td>1.102743</td>\n",
       "      <td>0.806057</td>\n",
       "      <td>49.693429</td>\n",
       "    </tr>\n",
       "    <tr>\n",
       "      <th>min</th>\n",
       "      <td>1.000000</td>\n",
       "      <td>0.000000</td>\n",
       "      <td>1.000000</td>\n",
       "      <td>0.420000</td>\n",
       "      <td>0.000000</td>\n",
       "      <td>0.000000</td>\n",
       "      <td>0.000000</td>\n",
       "    </tr>\n",
       "    <tr>\n",
       "      <th>25%</th>\n",
       "      <td>223.500000</td>\n",
       "      <td>0.000000</td>\n",
       "      <td>2.000000</td>\n",
       "      <td>20.125000</td>\n",
       "      <td>0.000000</td>\n",
       "      <td>0.000000</td>\n",
       "      <td>7.910400</td>\n",
       "    </tr>\n",
       "    <tr>\n",
       "      <th>50%</th>\n",
       "      <td>446.000000</td>\n",
       "      <td>0.000000</td>\n",
       "      <td>3.000000</td>\n",
       "      <td>28.000000</td>\n",
       "      <td>0.000000</td>\n",
       "      <td>0.000000</td>\n",
       "      <td>14.454200</td>\n",
       "    </tr>\n",
       "    <tr>\n",
       "      <th>75%</th>\n",
       "      <td>668.500000</td>\n",
       "      <td>1.000000</td>\n",
       "      <td>3.000000</td>\n",
       "      <td>38.000000</td>\n",
       "      <td>1.000000</td>\n",
       "      <td>0.000000</td>\n",
       "      <td>31.000000</td>\n",
       "    </tr>\n",
       "    <tr>\n",
       "      <th>max</th>\n",
       "      <td>891.000000</td>\n",
       "      <td>1.000000</td>\n",
       "      <td>3.000000</td>\n",
       "      <td>80.000000</td>\n",
       "      <td>8.000000</td>\n",
       "      <td>6.000000</td>\n",
       "      <td>512.329200</td>\n",
       "    </tr>\n",
       "  </tbody>\n",
       "</table>\n",
       "</div>"
      ],
      "text/plain": [
       "       PassengerId    Survived      Pclass         Age       SibSp  \\\n",
       "count   891.000000  891.000000  891.000000  714.000000  891.000000   \n",
       "mean    446.000000    0.383838    2.308642   29.699118    0.523008   \n",
       "std     257.353842    0.486592    0.836071   14.526497    1.102743   \n",
       "min       1.000000    0.000000    1.000000    0.420000    0.000000   \n",
       "25%     223.500000    0.000000    2.000000   20.125000    0.000000   \n",
       "50%     446.000000    0.000000    3.000000   28.000000    0.000000   \n",
       "75%     668.500000    1.000000    3.000000   38.000000    1.000000   \n",
       "max     891.000000    1.000000    3.000000   80.000000    8.000000   \n",
       "\n",
       "            Parch        Fare  \n",
       "count  891.000000  891.000000  \n",
       "mean     0.381594   32.204208  \n",
       "std      0.806057   49.693429  \n",
       "min      0.000000    0.000000  \n",
       "25%      0.000000    7.910400  \n",
       "50%      0.000000   14.454200  \n",
       "75%      0.000000   31.000000  \n",
       "max      6.000000  512.329200  "
      ]
     },
     "execution_count": 6,
     "metadata": {},
     "output_type": "execute_result"
    }
   ],
   "source": [
    "data.describe()"
   ]
  },
  {
   "cell_type": "markdown",
   "id": "7baa3f90",
   "metadata": {
    "papermill": {
     "duration": 0.009308,
     "end_time": "2024-07-04T14:15:03.053113",
     "exception": false,
     "start_time": "2024-07-04T14:15:03.043805",
     "status": "completed"
    },
    "tags": []
   },
   "source": [
    "# Data cleaning "
   ]
  },
  {
   "cell_type": "code",
   "execution_count": 7,
   "id": "80c6594d",
   "metadata": {
    "execution": {
     "iopub.execute_input": "2024-07-04T14:15:03.074773Z",
     "iopub.status.busy": "2024-07-04T14:15:03.074359Z",
     "iopub.status.idle": "2024-07-04T14:15:03.083872Z",
     "shell.execute_reply": "2024-07-04T14:15:03.082670Z"
    },
    "papermill": {
     "duration": 0.023552,
     "end_time": "2024-07-04T14:15:03.086420",
     "exception": false,
     "start_time": "2024-07-04T14:15:03.062868",
     "status": "completed"
    },
    "tags": []
   },
   "outputs": [],
   "source": [
    "df = data.drop(['PassengerId','Name', 'Ticket', 'Cabin'], axis=1)"
   ]
  },
  {
   "cell_type": "code",
   "execution_count": 8,
   "id": "f2d98b12",
   "metadata": {
    "execution": {
     "iopub.execute_input": "2024-07-04T14:15:03.108776Z",
     "iopub.status.busy": "2024-07-04T14:15:03.107417Z",
     "iopub.status.idle": "2024-07-04T14:15:03.122736Z",
     "shell.execute_reply": "2024-07-04T14:15:03.121621Z"
    },
    "papermill": {
     "duration": 0.029259,
     "end_time": "2024-07-04T14:15:03.125516",
     "exception": false,
     "start_time": "2024-07-04T14:15:03.096257",
     "status": "completed"
    },
    "tags": []
   },
   "outputs": [
    {
     "data": {
      "text/plain": [
       "Survived  Pclass  SibSp\n",
       "0         1       0        46.375000\n",
       "                  1        38.500000\n",
       "                  2        44.000000\n",
       "                  3        19.000000\n",
       "          2       0        33.833333\n",
       "                  1        34.239130\n",
       "                  2        25.000000\n",
       "          3       0        29.103175\n",
       "                  1        27.966667\n",
       "                  2        24.444444\n",
       "                  3         5.428571\n",
       "                  4         6.800000\n",
       "                  5        10.200000\n",
       "                  8              NaN\n",
       "1         1       0        34.594203\n",
       "                  1        36.998298\n",
       "                  2        35.500000\n",
       "                  3        23.500000\n",
       "          2       0        29.333261\n",
       "                  1        22.421875\n",
       "                  2        13.250000\n",
       "                  3        30.000000\n",
       "          3       0        22.990333\n",
       "                  1        17.277778\n",
       "                  2         2.166667\n",
       "                  3        33.000000\n",
       "                  4         8.333333\n",
       "Name: Age, dtype: float64"
      ]
     },
     "execution_count": 8,
     "metadata": {},
     "output_type": "execute_result"
    }
   ],
   "source": [
    "df.groupby([\"Survived\",\"Pclass\",\"SibSp\"])[\"Age\"].mean()"
   ]
  },
  {
   "cell_type": "code",
   "execution_count": 9,
   "id": "2929d913",
   "metadata": {
    "execution": {
     "iopub.execute_input": "2024-07-04T14:15:03.148642Z",
     "iopub.status.busy": "2024-07-04T14:15:03.147658Z",
     "iopub.status.idle": "2024-07-04T14:15:03.157172Z",
     "shell.execute_reply": "2024-07-04T14:15:03.156037Z"
    },
    "papermill": {
     "duration": 0.024429,
     "end_time": "2024-07-04T14:15:03.160054",
     "exception": false,
     "start_time": "2024-07-04T14:15:03.135625",
     "status": "completed"
    },
    "tags": []
   },
   "outputs": [],
   "source": [
    "df.drop(df[df['SibSp'] == 8].index, inplace=True)"
   ]
  },
  {
   "cell_type": "code",
   "execution_count": 10,
   "id": "29ba8f52",
   "metadata": {
    "execution": {
     "iopub.execute_input": "2024-07-04T14:15:03.181823Z",
     "iopub.status.busy": "2024-07-04T14:15:03.181317Z",
     "iopub.status.idle": "2024-07-04T14:15:03.192538Z",
     "shell.execute_reply": "2024-07-04T14:15:03.191025Z"
    },
    "papermill": {
     "duration": 0.025465,
     "end_time": "2024-07-04T14:15:03.195326",
     "exception": false,
     "start_time": "2024-07-04T14:15:03.169861",
     "status": "completed"
    },
    "tags": []
   },
   "outputs": [],
   "source": [
    "df['Age'] = df['Age'].fillna(data.groupby([\"Survived\",\"Pclass\",\"SibSp\"])[\"Age\"].transform('mean'))"
   ]
  },
  {
   "cell_type": "code",
   "execution_count": 11,
   "id": "de5d066e",
   "metadata": {
    "execution": {
     "iopub.execute_input": "2024-07-04T14:15:03.217204Z",
     "iopub.status.busy": "2024-07-04T14:15:03.216720Z",
     "iopub.status.idle": "2024-07-04T14:15:03.229633Z",
     "shell.execute_reply": "2024-07-04T14:15:03.228203Z"
    },
    "papermill": {
     "duration": 0.027106,
     "end_time": "2024-07-04T14:15:03.232423",
     "exception": false,
     "start_time": "2024-07-04T14:15:03.205317",
     "status": "completed"
    },
    "tags": []
   },
   "outputs": [],
   "source": [
    "df = pd.get_dummies(df, columns=['Sex', 'Embarked'])"
   ]
  },
  {
   "cell_type": "code",
   "execution_count": 12,
   "id": "f7942fe2",
   "metadata": {
    "execution": {
     "iopub.execute_input": "2024-07-04T14:15:03.253841Z",
     "iopub.status.busy": "2024-07-04T14:15:03.253355Z",
     "iopub.status.idle": "2024-07-04T14:15:04.188470Z",
     "shell.execute_reply": "2024-07-04T14:15:04.187082Z"
    },
    "papermill": {
     "duration": 0.949687,
     "end_time": "2024-07-04T14:15:04.191776",
     "exception": false,
     "start_time": "2024-07-04T14:15:03.242089",
     "status": "completed"
    },
    "tags": []
   },
   "outputs": [
    {
     "data": {
      "image/png": "[encoded data removed]",
      "text/plain": [
       "<Figure size 1000x600 with 2 Axes>"
      ]
     },
     "metadata": {},
     "output_type": "display_data"
    }
   ],
   "source": [
    "correlation_matrix = df.corr()\n",
    "\n",
    "plt.figure(figsize=(10, 6))\n",
    "sns.heatmap(correlation_matrix, annot=True, cmap='coolwarm', vmin=-1, vmax=1)\n",
    "plt.title('Correlation Matrix Heatmap')\n",
    "plt.show()"
   ]
  },
  {
   "cell_type": "code",
   "execution_count": 13,
   "id": "9e922f26",
   "metadata": {
    "execution": {
     "iopub.execute_input": "2024-07-04T14:15:04.219182Z",
     "iopub.status.busy": "2024-07-04T14:15:04.218716Z",
     "iopub.status.idle": "2024-07-04T14:15:04.242248Z",
     "shell.execute_reply": "2024-07-04T14:15:04.240793Z"
    },
    "papermill": {
     "duration": 0.040977,
     "end_time": "2024-07-04T14:15:04.245064",
     "exception": false,
     "start_time": "2024-07-04T14:15:04.204087",
     "status": "completed"
    },
    "tags": []
   },
   "outputs": [
    {
     "data": {
      "text/html": [
       "<div>\n",
       "<style scoped>\n",
       "    .dataframe tbody tr th:only-of-type {\n",
       "        vertical-align: middle;\n",
       "    }\n",
       "\n",
       "    .dataframe tbody tr th {\n",
       "        vertical-align: top;\n",
       "    }\n",
       "\n",
       "    .dataframe thead th {\n",
       "        text-align: right;\n",
       "    }\n",
       "</style>\n",
       "<table border=\"1\" class=\"dataframe\">\n",
       "  <thead>\n",
       "    <tr style=\"text-align: right;\">\n",
       "      <th></th>\n",
       "      <th>Survived</th>\n",
       "      <th>Pclass</th>\n",
       "      <th>Age</th>\n",
       "      <th>SibSp</th>\n",
       "      <th>Parch</th>\n",
       "      <th>Fare</th>\n",
       "      <th>Sex_female</th>\n",
       "      <th>Sex_male</th>\n",
       "      <th>Embarked_C</th>\n",
       "      <th>Embarked_Q</th>\n",
       "      <th>Embarked_S</th>\n",
       "    </tr>\n",
       "  </thead>\n",
       "  <tbody>\n",
       "    <tr>\n",
       "      <th>0</th>\n",
       "      <td>0</td>\n",
       "      <td>3</td>\n",
       "      <td>22.000000</td>\n",
       "      <td>1</td>\n",
       "      <td>0</td>\n",
       "      <td>7.2500</td>\n",
       "      <td>False</td>\n",
       "      <td>True</td>\n",
       "      <td>False</td>\n",
       "      <td>False</td>\n",
       "      <td>True</td>\n",
       "    </tr>\n",
       "    <tr>\n",
       "      <th>1</th>\n",
       "      <td>1</td>\n",
       "      <td>1</td>\n",
       "      <td>38.000000</td>\n",
       "      <td>1</td>\n",
       "      <td>0</td>\n",
       "      <td>71.2833</td>\n",
       "      <td>True</td>\n",
       "      <td>False</td>\n",
       "      <td>True</td>\n",
       "      <td>False</td>\n",
       "      <td>False</td>\n",
       "    </tr>\n",
       "    <tr>\n",
       "      <th>2</th>\n",
       "      <td>1</td>\n",
       "      <td>3</td>\n",
       "      <td>26.000000</td>\n",
       "      <td>0</td>\n",
       "      <td>0</td>\n",
       "      <td>7.9250</td>\n",
       "      <td>True</td>\n",
       "      <td>False</td>\n",
       "      <td>False</td>\n",
       "      <td>False</td>\n",
       "      <td>True</td>\n",
       "    </tr>\n",
       "    <tr>\n",
       "      <th>3</th>\n",
       "      <td>1</td>\n",
       "      <td>1</td>\n",
       "      <td>35.000000</td>\n",
       "      <td>1</td>\n",
       "      <td>0</td>\n",
       "      <td>53.1000</td>\n",
       "      <td>True</td>\n",
       "      <td>False</td>\n",
       "      <td>False</td>\n",
       "      <td>False</td>\n",
       "      <td>True</td>\n",
       "    </tr>\n",
       "    <tr>\n",
       "      <th>4</th>\n",
       "      <td>0</td>\n",
       "      <td>3</td>\n",
       "      <td>35.000000</td>\n",
       "      <td>0</td>\n",
       "      <td>0</td>\n",
       "      <td>8.0500</td>\n",
       "      <td>False</td>\n",
       "      <td>True</td>\n",
       "      <td>False</td>\n",
       "      <td>False</td>\n",
       "      <td>True</td>\n",
       "    </tr>\n",
       "    <tr>\n",
       "      <th>...</th>\n",
       "      <td>...</td>\n",
       "      <td>...</td>\n",
       "      <td>...</td>\n",
       "      <td>...</td>\n",
       "      <td>...</td>\n",
       "      <td>...</td>\n",
       "      <td>...</td>\n",
       "      <td>...</td>\n",
       "      <td>...</td>\n",
       "      <td>...</td>\n",
       "      <td>...</td>\n",
       "    </tr>\n",
       "    <tr>\n",
       "      <th>886</th>\n",
       "      <td>0</td>\n",
       "      <td>2</td>\n",
       "      <td>27.000000</td>\n",
       "      <td>0</td>\n",
       "      <td>0</td>\n",
       "      <td>13.0000</td>\n",
       "      <td>False</td>\n",
       "      <td>True</td>\n",
       "      <td>False</td>\n",
       "      <td>False</td>\n",
       "      <td>True</td>\n",
       "    </tr>\n",
       "    <tr>\n",
       "      <th>887</th>\n",
       "      <td>1</td>\n",
       "      <td>1</td>\n",
       "      <td>19.000000</td>\n",
       "      <td>0</td>\n",
       "      <td>0</td>\n",
       "      <td>30.0000</td>\n",
       "      <td>True</td>\n",
       "      <td>False</td>\n",
       "      <td>False</td>\n",
       "      <td>False</td>\n",
       "      <td>True</td>\n",
       "    </tr>\n",
       "    <tr>\n",
       "      <th>888</th>\n",
       "      <td>0</td>\n",
       "      <td>3</td>\n",
       "      <td>27.966667</td>\n",
       "      <td>1</td>\n",
       "      <td>2</td>\n",
       "      <td>23.4500</td>\n",
       "      <td>True</td>\n",
       "      <td>False</td>\n",
       "      <td>False</td>\n",
       "      <td>False</td>\n",
       "      <td>True</td>\n",
       "    </tr>\n",
       "    <tr>\n",
       "      <th>889</th>\n",
       "      <td>1</td>\n",
       "      <td>1</td>\n",
       "      <td>26.000000</td>\n",
       "      <td>0</td>\n",
       "      <td>0</td>\n",
       "      <td>30.0000</td>\n",
       "      <td>False</td>\n",
       "      <td>True</td>\n",
       "      <td>True</td>\n",
       "      <td>False</td>\n",
       "      <td>False</td>\n",
       "    </tr>\n",
       "    <tr>\n",
       "      <th>890</th>\n",
       "      <td>0</td>\n",
       "      <td>3</td>\n",
       "      <td>32.000000</td>\n",
       "      <td>0</td>\n",
       "      <td>0</td>\n",
       "      <td>7.7500</td>\n",
       "      <td>False</td>\n",
       "      <td>True</td>\n",
       "      <td>False</td>\n",
       "      <td>True</td>\n",
       "      <td>False</td>\n",
       "    </tr>\n",
       "  </tbody>\n",
       "</table>\n",
       "<p>884 rows × 11 columns</p>\n",
       "</div>"
      ],
      "text/plain": [
       "     Survived  Pclass        Age  SibSp  Parch     Fare  Sex_female  Sex_male  \\\n",
       "0           0       3  22.000000      1      0   7.2500       False      True   \n",
       "1           1       1  38.000000      1      0  71.2833        True     False   \n",
       "2           1       3  26.000000      0      0   7.9250        True     False   \n",
       "3           1       1  35.000000      1      0  53.1000        True     False   \n",
       "4           0       3  35.000000      0      0   8.0500       False      True   \n",
       "..        ...     ...        ...    ...    ...      ...         ...       ...   \n",
       "886         0       2  27.000000      0      0  13.0000       False      True   \n",
       "887         1       1  19.000000      0      0  30.0000        True     False   \n",
       "888         0       3  27.966667      1      2  23.4500        True     False   \n",
       "889         1       1  26.000000      0      0  30.0000       False      True   \n",
       "890         0       3  32.000000      0      0   7.7500       False      True   \n",
       "\n",
       "     Embarked_C  Embarked_Q  Embarked_S  \n",
       "0         False       False        True  \n",
       "1          True       False       False  \n",
       "2         False       False        True  \n",
       "3         False       False        True  \n",
       "4         False       False        True  \n",
       "..          ...         ...         ...  \n",
       "886       False       False        True  \n",
       "887       False       False        True  \n",
       "888       False       False        True  \n",
       "889        True       False       False  \n",
       "890       False        True       False  \n",
       "\n",
       "[884 rows x 11 columns]"
      ]
     },
     "execution_count": 13,
     "metadata": {},
     "output_type": "execute_result"
    }
   ],
   "source": [
    "df"
   ]
  },
  {
   "cell_type": "markdown",
   "id": "25a2eb01",
   "metadata": {
    "papermill": {
     "duration": 0.013005,
     "end_time": "2024-07-04T14:15:04.270747",
     "exception": false,
     "start_time": "2024-07-04T14:15:04.257742",
     "status": "completed"
    },
    "tags": []
   },
   "source": [
    "# Model learning"
   ]
  },
  {
   "cell_type": "code",
   "execution_count": 14,
   "id": "2f7e0a50",
   "metadata": {
    "execution": {
     "iopub.execute_input": "2024-07-04T14:15:04.299875Z",
     "iopub.status.busy": "2024-07-04T14:15:04.299441Z",
     "iopub.status.idle": "2024-07-04T14:15:05.057320Z",
     "shell.execute_reply": "2024-07-04T14:15:05.056097Z"
    },
    "papermill": {
     "duration": 0.775568,
     "end_time": "2024-07-04T14:15:05.060378",
     "exception": false,
     "start_time": "2024-07-04T14:15:04.284810",
     "status": "completed"
    },
    "tags": []
   },
   "outputs": [],
   "source": [
    "from sklearn.model_selection import train_test_split, GridSearchCV\n",
    "from sklearn.preprocessing import MinMaxScaler\n",
    "from sklearn.metrics import accuracy_score, classification_report, confusion_matrix\n",
    "import xgboost as xgb\n",
    "from sklearn.ensemble import RandomForestClassifier\n",
    "from sklearn.svm import SVC\n",
    "from sklearn.linear_model import LogisticRegression\n",
    "from sklearn.ensemble import GradientBoostingClassifier\n",
    "import joblib"
   ]
  },
  {
   "cell_type": "code",
   "execution_count": 15,
   "id": "a15b3030",
   "metadata": {
    "execution": {
     "iopub.execute_input": "2024-07-04T14:15:05.087940Z",
     "iopub.status.busy": "2024-07-04T14:15:05.087500Z",
     "iopub.status.idle": "2024-07-04T14:15:05.095052Z",
     "shell.execute_reply": "2024-07-04T14:15:05.093883Z"
    },
    "papermill": {
     "duration": 0.024543,
     "end_time": "2024-07-04T14:15:05.097762",
     "exception": false,
     "start_time": "2024-07-04T14:15:05.073219",
     "status": "completed"
    },
    "tags": []
   },
   "outputs": [],
   "source": [
    "X = df.drop(columns=['Survived'], axis=1)\n",
    "y = df['Survived']"
   ]
  },
  {
   "cell_type": "code",
   "execution_count": 16,
   "id": "10c71ee7",
   "metadata": {
    "execution": {
     "iopub.execute_input": "2024-07-04T14:15:05.125234Z",
     "iopub.status.busy": "2024-07-04T14:15:05.124770Z",
     "iopub.status.idle": "2024-07-04T14:15:05.136960Z",
     "shell.execute_reply": "2024-07-04T14:15:05.135461Z"
    },
    "papermill": {
     "duration": 0.02915,
     "end_time": "2024-07-04T14:15:05.139580",
     "exception": false,
     "start_time": "2024-07-04T14:15:05.110430",
     "status": "completed"
    },
    "tags": []
   },
   "outputs": [],
   "source": [
    "scaler = MinMaxScaler()\n",
    "#X_scaled = scaler.fit_transform(X)\n",
    "scaler.fit(X[['Fare','Age']])\n",
    "X[['Fare','Age']]=scaler.transform(X[['Fare','Age']])"
   ]
  },
  {
   "cell_type": "code",
   "execution_count": 17,
   "id": "ea184235",
   "metadata": {
    "execution": {
     "iopub.execute_input": "2024-07-04T14:15:05.167157Z",
     "iopub.status.busy": "2024-07-04T14:15:05.166193Z",
     "iopub.status.idle": "2024-07-04T14:15:05.176026Z",
     "shell.execute_reply": "2024-07-04T14:15:05.174751Z"
    },
    "papermill": {
     "duration": 0.026427,
     "end_time": "2024-07-04T14:15:05.178568",
     "exception": false,
     "start_time": "2024-07-04T14:15:05.152141",
     "status": "completed"
    },
    "tags": []
   },
   "outputs": [],
   "source": [
    "X_train, X_test, y_train, y_test = train_test_split(X, y, test_size=0.2, random_state=42, shuffle=True)"
   ]
  },
  {
   "cell_type": "markdown",
   "id": "6d64c1a5",
   "metadata": {
    "papermill": {
     "duration": 0.012411,
     "end_time": "2024-07-04T14:15:05.203485",
     "exception": false,
     "start_time": "2024-07-04T14:15:05.191074",
     "status": "completed"
    },
    "tags": []
   },
   "source": [
    "## GridSearshCV"
   ]
  },
  {
   "cell_type": "code",
   "execution_count": 18,
   "id": "5d65ee5e",
   "metadata": {
    "execution": {
     "iopub.execute_input": "2024-07-04T14:15:05.230360Z",
     "iopub.status.busy": "2024-07-04T14:15:05.229914Z",
     "iopub.status.idle": "2024-07-04T14:15:05.239963Z",
     "shell.execute_reply": "2024-07-04T14:15:05.238823Z"
    },
    "papermill": {
     "duration": 0.026632,
     "end_time": "2024-07-04T14:15:05.242518",
     "exception": false,
     "start_time": "2024-07-04T14:15:05.215886",
     "status": "completed"
    },
    "tags": []
   },
   "outputs": [],
   "source": [
    "param_grid_rf = {\n",
    "    'n_estimators': [100, 200, 300],\n",
    "    'max_depth': [None, 10, 20, 30],\n",
    "    'min_samples_split': [2, 5, 10],\n",
    "    'min_samples_leaf': [1, 2, 4]\n",
    "}\n",
    "\n",
    "param_grid_xgb = {\n",
    "    'n_estimators': [100, 200, 300],\n",
    "    'learning_rate': [0.01, 0.1, 0.2],\n",
    "    'max_depth': [3, 5, 7],\n",
    "    'subsample': [0.8, 0.9, 1.0]\n",
    "}\n",
    "\n",
    "param_grid_lr = {\n",
    "    'C': [0.1, 1, 10, 100],\n",
    "    'penalty': ['l1', 'l2'],\n",
    "    'solver': ['liblinear']\n",
    "}\n",
    "\n",
    "param_grid_gbc = {\n",
    "    'n_estimators': [100, 200, 300],\n",
    "    'learning_rate': [0.01, 0.1, 0.2],\n",
    "    'max_depth': [3, 5, 7],\n",
    "    'subsample': [0.8, 0.9, 1.0],\n",
    "    'min_samples_split': [2, 5, 10],\n",
    "    'min_samples_leaf': [1, 2, 4]\n",
    "}"
   ]
  },
  {
   "cell_type": "code",
   "execution_count": 19,
   "id": "a32537c9",
   "metadata": {
    "execution": {
     "iopub.execute_input": "2024-07-04T14:15:05.269475Z",
     "iopub.status.busy": "2024-07-04T14:15:05.269036Z",
     "iopub.status.idle": "2024-07-04T14:15:05.275697Z",
     "shell.execute_reply": "2024-07-04T14:15:05.274320Z"
    },
    "papermill": {
     "duration": 0.023112,
     "end_time": "2024-07-04T14:15:05.278152",
     "exception": false,
     "start_time": "2024-07-04T14:15:05.255040",
     "status": "completed"
    },
    "tags": []
   },
   "outputs": [],
   "source": [
    "rf = RandomForestClassifier()\n",
    "xgb_clf = xgb.XGBClassifier(use_label_encoder=False, eval_metric='logloss')\n",
    "lr = LogisticRegression(max_iter=1000)\n",
    "gbc = GradientBoostingClassifier()"
   ]
  },
  {
   "cell_type": "code",
   "execution_count": 20,
   "id": "954ceca7",
   "metadata": {
    "execution": {
     "iopub.execute_input": "2024-07-04T14:15:05.305443Z",
     "iopub.status.busy": "2024-07-04T14:15:05.304947Z",
     "iopub.status.idle": "2024-07-04T14:15:05.312517Z",
     "shell.execute_reply": "2024-07-04T14:15:05.311247Z"
    },
    "papermill": {
     "duration": 0.024321,
     "end_time": "2024-07-04T14:15:05.315004",
     "exception": false,
     "start_time": "2024-07-04T14:15:05.290683",
     "status": "completed"
    },
    "tags": []
   },
   "outputs": [],
   "source": [
    "grid_rf = GridSearchCV(rf, param_grid_rf, cv=5, scoring='accuracy')\n",
    "grid_xgb = GridSearchCV(xgb_clf, param_grid_xgb, cv=5, scoring='accuracy')\n",
    "grid_lr = GridSearchCV(lr, param_grid_lr, cv=5, scoring='accuracy')\n",
    "grid_gbc = GridSearchCV(gbc, param_grid=param_grid_gbc, cv=5, scoring='accuracy', n_jobs=-1, verbose=1)"
   ]
  },
  {
   "cell_type": "code",
   "execution_count": 21,
   "id": "31d490b2",
   "metadata": {
    "execution": {
     "iopub.execute_input": "2024-07-04T14:15:05.341476Z",
     "iopub.status.busy": "2024-07-04T14:15:05.340951Z",
     "iopub.status.idle": "2024-07-04T14:15:05.346986Z",
     "shell.execute_reply": "2024-07-04T14:15:05.345755Z"
    },
    "papermill": {
     "duration": 0.022195,
     "end_time": "2024-07-04T14:15:05.349373",
     "exception": false,
     "start_time": "2024-07-04T14:15:05.327178",
     "status": "completed"
    },
    "tags": []
   },
   "outputs": [],
   "source": [
    "grids = {\n",
    "    'Random Forest': grid_rf,\n",
    "    'XGBoost': grid_xgb,\n",
    "    'Logistic Regression': grid_lr,\n",
    "    'Gradient Boosting Classifier': grid_gbc\n",
    "}"
   ]
  },
  {
   "cell_type": "code",
   "execution_count": 22,
   "id": "68ae43b6",
   "metadata": {
    "execution": {
     "iopub.execute_input": "2024-07-04T14:15:05.377185Z",
     "iopub.status.busy": "2024-07-04T14:15:05.376682Z",
     "iopub.status.idle": "2024-07-04T14:31:53.690702Z",
     "shell.execute_reply": "2024-07-04T14:31:53.688786Z"
    },
    "papermill": {
     "duration": 1008.331963,
     "end_time": "2024-07-04T14:31:53.694091",
     "exception": false,
     "start_time": "2024-07-04T14:15:05.362128",
     "status": "completed"
    },
    "tags": []
   },
   "outputs": [
    {
     "name": "stdout",
     "output_type": "stream",
     "text": [
      "Training Random Forest...\n",
      "Random Forest Best Parameters: {'max_depth': 30, 'min_samples_leaf': 1, 'min_samples_split': 5, 'n_estimators': 100}\n",
      "Random Forest Accuracy: 0.8192090395480226\n",
      "Random Forest Classification Report:\n",
      "              precision    recall  f1-score   support\n",
      "\n",
      "           0       0.83      0.88      0.85       104\n",
      "           1       0.81      0.74      0.77        73\n",
      "\n",
      "    accuracy                           0.82       177\n",
      "   macro avg       0.82      0.81      0.81       177\n",
      "weighted avg       0.82      0.82      0.82       177\n",
      "\n"
     ]
    },
    {
     "data": {
      "image/png": "[encoded data removed]",
      "text/plain": [
       "<Figure size 640x480 with 2 Axes>"
      ]
     },
     "metadata": {},
     "output_type": "display_data"
    },
    {
     "name": "stdout",
     "output_type": "stream",
     "text": [
      "Best Random Forest model saved as best_random_forest_model.pkl\n",
      "\n",
      "\n",
      "\n",
      "\n",
      "\n",
      "Training XGBoost...\n",
      "XGBoost Best Parameters: {'learning_rate': 0.1, 'max_depth': 3, 'n_estimators': 100, 'subsample': 1.0}\n",
      "XGBoost Accuracy: 0.8361581920903954\n",
      "XGBoost Classification Report:\n",
      "              precision    recall  f1-score   support\n",
      "\n",
      "           0       0.84      0.88      0.86       104\n",
      "           1       0.82      0.77      0.79        73\n",
      "\n",
      "    accuracy                           0.84       177\n",
      "   macro avg       0.83      0.83      0.83       177\n",
      "weighted avg       0.84      0.84      0.84       177\n",
      "\n"
     ]
    },
    {
     "data": {
      "image/png": "[encoded data removed]",
      "text/plain": [
       "<Figure size 640x480 with 2 Axes>"
      ]
     },
     "metadata": {},
     "output_type": "display_data"
    },
    {
     "name": "stdout",
     "output_type": "stream",
     "text": [
      "Best XGBoost model saved as best_xgboost_model.pkl\n",
      "\n",
      "\n",
      "\n",
      "\n",
      "\n",
      "Training Logistic Regression...\n",
      "Logistic Regression Best Parameters: {'C': 10, 'penalty': 'l1', 'solver': 'liblinear'}\n",
      "Logistic Regression Accuracy: 0.8248587570621468\n",
      "Logistic Regression Classification Report:\n",
      "              precision    recall  f1-score   support\n",
      "\n",
      "           0       0.85      0.85      0.85       104\n",
      "           1       0.78      0.79      0.79        73\n",
      "\n",
      "    accuracy                           0.82       177\n",
      "   macro avg       0.82      0.82      0.82       177\n",
      "weighted avg       0.83      0.82      0.83       177\n",
      "\n"
     ]
    },
    {
     "data": {
      "image/png": "[encoded data removed]",
      "text/plain": [
       "<Figure size 640x480 with 2 Axes>"
      ]
     },
     "metadata": {},
     "output_type": "display_data"
    },
    {
     "name": "stdout",
     "output_type": "stream",
     "text": [
      "Best Logistic Regression model saved as best_logistic_regression_model.pkl\n",
      "\n",
      "\n",
      "\n",
      "\n",
      "\n",
      "Training Gradient Boosting Classifier...\n",
      "Fitting 5 folds for each of 729 candidates, totalling 3645 fits\n",
      "Gradient Boosting Classifier Best Parameters: {'learning_rate': 0.1, 'max_depth': 3, 'min_samples_leaf': 1, 'min_samples_split': 2, 'n_estimators': 200, 'subsample': 1.0}\n",
      "Gradient Boosting Classifier Accuracy: 0.8587570621468926\n",
      "Gradient Boosting Classifier Classification Report:\n",
      "              precision    recall  f1-score   support\n",
      "\n",
      "           0       0.87      0.89      0.88       104\n",
      "           1       0.84      0.81      0.83        73\n",
      "\n",
      "    accuracy                           0.86       177\n",
      "   macro avg       0.86      0.85      0.85       177\n",
      "weighted avg       0.86      0.86      0.86       177\n",
      "\n"
     ]
    },
    {
     "data": {
      "image/png": "[encoded data removed]",
      "text/plain": [
       "<Figure size 640x480 with 2 Axes>"
      ]
     },
     "metadata": {},
     "output_type": "display_data"
    },
    {
     "name": "stdout",
     "output_type": "stream",
     "text": [
      "Best Gradient Boosting Classifier model saved as best_gradient_boosting_classifier_model.pkl\n",
      "\n",
      "\n",
      "\n",
      "\n",
      "\n"
     ]
    }
   ],
   "source": [
    "for name, grid in grids.items():\n",
    "    print(f\"Training {name}...\")\n",
    "    grid.fit(X_train, y_train)\n",
    "    best_model = grid.best_estimator_\n",
    "    y_pred = best_model.predict(X_test)\n",
    "    print(f\"{name} Best Parameters: {grid.best_params_}\")\n",
    "    print(f\"{name} Accuracy: {accuracy_score(y_test, y_pred)}\")\n",
    "    print(f\"{name} Classification Report:\\n{classification_report(y_test, y_pred)}\")\n",
    "    sns.heatmap(confusion_matrix(y_test, y_pred), annot=True)\n",
    "    plt.title('Confusion Matrix Heatmap')\n",
    "    plt.show()\n",
    "    # Save the best model\n",
    "    model_filename = f'best_{name.lower().replace(\" \", \"_\")}_model.pkl'\n",
    "    joblib.dump(best_model, model_filename)\n",
    "    print(f\"Best {name} model saved as {model_filename}\\n\\n\")\n",
    "    print('\\n\\n')"
   ]
  }
 ],
 "metadata": {
  "kaggle": {
   "accelerator": "none",
   "dataSources": [
    {
     "datasetId": 1818188,
     "sourceId": 2965537,
     "sourceType": "datasetVersion"
    }
   ],
   "dockerImageVersionId": 30732,
   "isGpuEnabled": false,
   "isInternetEnabled": true,
   "language": "python",
   "sourceType": "notebook"
  },
  "kernelspec": {
   "display_name": "Python 3",
   "language": "python",
   "name": "python3"
  },
  "language_info": {
   "codemirror_mode": {
    "name": "ipython",
    "version": 3
   },
   "file_extension": ".py",
   "mimetype": "text/x-python",
   "name": "python",
   "nbconvert_exporter": "python",
   "pygments_lexer": "ipython3",
   "version": "3.10.13"
  },
  "papermill": {
   "default_parameters": {},
   "duration": 1019.201075,
   "end_time": "2024-07-04T14:31:56.340223",
   "environment_variables": {},
   "exception": null,
   "input_path": "__notebook__.ipynb",
   "output_path": "__notebook__.ipynb",
   "parameters": {},
   "start_time": "2024-07-04T14:14:57.139148",
   "version": "2.5.0"
  }
 },
 "nbformat": 4,
 "nbformat_minor": 5
}
