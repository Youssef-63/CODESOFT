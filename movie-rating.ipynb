{
 "cells": [
  {
   "cell_type": "code",
   "execution_count": 1,
   "id": "5b7f3577",
   "metadata": {
    "_cell_guid": "b1076dfc-b9ad-4769-8c92-a6c4dae69d19",
    "_uuid": "8f2839f25d086af736a60e9eeb907d3b93b6e0e5",
    "execution": {
     "iopub.execute_input": "2024-07-20T23:13:57.382195Z",
     "iopub.status.busy": "2024-07-20T23:13:57.381788Z",
     "iopub.status.idle": "2024-07-20T23:13:59.795264Z",
     "shell.execute_reply": "2024-07-20T23:13:59.794146Z"
    },
    "papermill": {
     "duration": 2.424519,
     "end_time": "2024-07-20T23:13:59.797983",
     "exception": false,
     "start_time": "2024-07-20T23:13:57.373464",
     "status": "completed"
    },
    "tags": []
   },
   "outputs": [],
   "source": [
    "import pandas as pd\n",
    "from sklearn.model_selection import train_test_split, GridSearchCV\n",
    "from sklearn.ensemble import GradientBoostingRegressor,RandomForestRegressor\n",
    "from sklearn.metrics import mean_squared_error, r2_score, mean_absolute_error\n",
    "from sklearn.compose import ColumnTransformer\n",
    "from sklearn.pipeline import Pipeline\n",
    "from sklearn.preprocessing import StandardScaler\n",
    "import joblib"
   ]
  },
  {
   "cell_type": "code",
   "execution_count": 2,
   "id": "17cfffa8",
   "metadata": {
    "execution": {
     "iopub.execute_input": "2024-07-20T23:13:59.813503Z",
     "iopub.status.busy": "2024-07-20T23:13:59.812339Z",
     "iopub.status.idle": "2024-07-20T23:13:59.918239Z",
     "shell.execute_reply": "2024-07-20T23:13:59.917040Z"
    },
    "papermill": {
     "duration": 0.116359,
     "end_time": "2024-07-20T23:13:59.921046",
     "exception": false,
     "start_time": "2024-07-20T23:13:59.804687",
     "status": "completed"
    },
    "tags": []
   },
   "outputs": [],
   "source": [
    "data = pd.read_csv('/kaggle/input/imdb-india-movies/IMDb Movies India.csv', sep=',', encoding='latin1' )"
   ]
  },
  {
   "cell_type": "code",
   "execution_count": 3,
   "id": "01ff53de",
   "metadata": {
    "execution": {
     "iopub.execute_input": "2024-07-20T23:13:59.936236Z",
     "iopub.status.busy": "2024-07-20T23:13:59.935239Z",
     "iopub.status.idle": "2024-07-20T23:13:59.962765Z",
     "shell.execute_reply": "2024-07-20T23:13:59.961683Z"
    },
    "papermill": {
     "duration": 0.037581,
     "end_time": "2024-07-20T23:13:59.965124",
     "exception": false,
     "start_time": "2024-07-20T23:13:59.927543",
     "status": "completed"
    },
    "tags": []
   },
   "outputs": [
    {
     "data": {
      "text/html": [
       "<div>\n",
       "<style scoped>\n",
       "    .dataframe tbody tr th:only-of-type {\n",
       "        vertical-align: middle;\n",
       "    }\n",
       "\n",
       "    .dataframe tbody tr th {\n",
       "        vertical-align: top;\n",
       "    }\n",
       "\n",
       "    .dataframe thead th {\n",
       "        text-align: right;\n",
       "    }\n",
       "</style>\n",
       "<table border=\"1\" class=\"dataframe\">\n",
       "  <thead>\n",
       "    <tr style=\"text-align: right;\">\n",
       "      <th></th>\n",
       "      <th>Name</th>\n",
       "      <th>Year</th>\n",
       "      <th>Duration</th>\n",
       "      <th>Genre</th>\n",
       "      <th>Rating</th>\n",
       "      <th>Votes</th>\n",
       "      <th>Director</th>\n",
       "      <th>Actor 1</th>\n",
       "      <th>Actor 2</th>\n",
       "      <th>Actor 3</th>\n",
       "    </tr>\n",
       "  </thead>\n",
       "  <tbody>\n",
       "    <tr>\n",
       "      <th>0</th>\n",
       "      <td></td>\n",
       "      <td>NaN</td>\n",
       "      <td>NaN</td>\n",
       "      <td>Drama</td>\n",
       "      <td>NaN</td>\n",
       "      <td>NaN</td>\n",
       "      <td>J.S. Randhawa</td>\n",
       "      <td>Manmauji</td>\n",
       "      <td>Birbal</td>\n",
       "      <td>Rajendra Bhatia</td>\n",
       "    </tr>\n",
       "    <tr>\n",
       "      <th>1</th>\n",
       "      <td>#Gadhvi (He thought he was Gandhi)</td>\n",
       "      <td>(2019)</td>\n",
       "      <td>109 min</td>\n",
       "      <td>Drama</td>\n",
       "      <td>7.0</td>\n",
       "      <td>8</td>\n",
       "      <td>Gaurav Bakshi</td>\n",
       "      <td>Rasika Dugal</td>\n",
       "      <td>Vivek Ghamande</td>\n",
       "      <td>Arvind Jangid</td>\n",
       "    </tr>\n",
       "    <tr>\n",
       "      <th>2</th>\n",
       "      <td>#Homecoming</td>\n",
       "      <td>(2021)</td>\n",
       "      <td>90 min</td>\n",
       "      <td>Drama, Musical</td>\n",
       "      <td>NaN</td>\n",
       "      <td>NaN</td>\n",
       "      <td>Soumyajit Majumdar</td>\n",
       "      <td>Sayani Gupta</td>\n",
       "      <td>Plabita Borthakur</td>\n",
       "      <td>Roy Angana</td>\n",
       "    </tr>\n",
       "    <tr>\n",
       "      <th>3</th>\n",
       "      <td>#Yaaram</td>\n",
       "      <td>(2019)</td>\n",
       "      <td>110 min</td>\n",
       "      <td>Comedy, Romance</td>\n",
       "      <td>4.4</td>\n",
       "      <td>35</td>\n",
       "      <td>Ovais Khan</td>\n",
       "      <td>Prateik</td>\n",
       "      <td>Ishita Raj</td>\n",
       "      <td>Siddhant Kapoor</td>\n",
       "    </tr>\n",
       "    <tr>\n",
       "      <th>4</th>\n",
       "      <td>...And Once Again</td>\n",
       "      <td>(2010)</td>\n",
       "      <td>105 min</td>\n",
       "      <td>Drama</td>\n",
       "      <td>NaN</td>\n",
       "      <td>NaN</td>\n",
       "      <td>Amol Palekar</td>\n",
       "      <td>Rajat Kapoor</td>\n",
       "      <td>Rituparna Sengupta</td>\n",
       "      <td>Antara Mali</td>\n",
       "    </tr>\n",
       "  </tbody>\n",
       "</table>\n",
       "</div>"
      ],
      "text/plain": [
       "                                 Name    Year Duration            Genre  \\\n",
       "0                                         NaN      NaN            Drama   \n",
       "1  #Gadhvi (He thought he was Gandhi)  (2019)  109 min            Drama   \n",
       "2                         #Homecoming  (2021)   90 min   Drama, Musical   \n",
       "3                             #Yaaram  (2019)  110 min  Comedy, Romance   \n",
       "4                   ...And Once Again  (2010)  105 min            Drama   \n",
       "\n",
       "   Rating Votes            Director       Actor 1             Actor 2  \\\n",
       "0     NaN   NaN       J.S. Randhawa      Manmauji              Birbal   \n",
       "1     7.0     8       Gaurav Bakshi  Rasika Dugal      Vivek Ghamande   \n",
       "2     NaN   NaN  Soumyajit Majumdar  Sayani Gupta   Plabita Borthakur   \n",
       "3     4.4    35          Ovais Khan       Prateik          Ishita Raj   \n",
       "4     NaN   NaN        Amol Palekar  Rajat Kapoor  Rituparna Sengupta   \n",
       "\n",
       "           Actor 3  \n",
       "0  Rajendra Bhatia  \n",
       "1    Arvind Jangid  \n",
       "2       Roy Angana  \n",
       "3  Siddhant Kapoor  \n",
       "4      Antara Mali  "
      ]
     },
     "execution_count": 3,
     "metadata": {},
     "output_type": "execute_result"
    }
   ],
   "source": [
    "data.head()"
   ]
  },
  {
   "cell_type": "code",
   "execution_count": 4,
   "id": "2fc9e86d",
   "metadata": {
    "execution": {
     "iopub.execute_input": "2024-07-20T23:13:59.980073Z",
     "iopub.status.busy": "2024-07-20T23:13:59.979675Z",
     "iopub.status.idle": "2024-07-20T23:13:59.987711Z",
     "shell.execute_reply": "2024-07-20T23:13:59.986685Z"
    },
    "papermill": {
     "duration": 0.018085,
     "end_time": "2024-07-20T23:13:59.989986",
     "exception": false,
     "start_time": "2024-07-20T23:13:59.971901",
     "status": "completed"
    },
    "tags": []
   },
   "outputs": [
    {
     "data": {
      "text/plain": [
       "Name         object\n",
       "Year         object\n",
       "Duration     object\n",
       "Genre        object\n",
       "Rating      float64\n",
       "Votes        object\n",
       "Director     object\n",
       "Actor 1      object\n",
       "Actor 2      object\n",
       "Actor 3      object\n",
       "dtype: object"
      ]
     },
     "execution_count": 4,
     "metadata": {},
     "output_type": "execute_result"
    }
   ],
   "source": [
    "data.dtypes"
   ]
  },
  {
   "cell_type": "code",
   "execution_count": 5,
   "id": "bc12338e",
   "metadata": {
    "execution": {
     "iopub.execute_input": "2024-07-20T23:14:00.005719Z",
     "iopub.status.busy": "2024-07-20T23:14:00.004930Z",
     "iopub.status.idle": "2024-07-20T23:14:00.021895Z",
     "shell.execute_reply": "2024-07-20T23:14:00.020696Z"
    },
    "papermill": {
     "duration": 0.027566,
     "end_time": "2024-07-20T23:14:00.024375",
     "exception": false,
     "start_time": "2024-07-20T23:13:59.996809",
     "status": "completed"
    },
    "tags": []
   },
   "outputs": [
    {
     "data": {
      "text/plain": [
       "Name           0\n",
       "Year         528\n",
       "Duration    8269\n",
       "Genre       1877\n",
       "Rating      7590\n",
       "Votes       7589\n",
       "Director     525\n",
       "Actor 1     1617\n",
       "Actor 2     2384\n",
       "Actor 3     3144\n",
       "dtype: int64"
      ]
     },
     "execution_count": 5,
     "metadata": {},
     "output_type": "execute_result"
    }
   ],
   "source": [
    "data.isnull().sum()"
   ]
  },
  {
   "cell_type": "markdown",
   "id": "c12c0122",
   "metadata": {
    "papermill": {
     "duration": 0.006678,
     "end_time": "2024-07-20T23:14:00.038199",
     "exception": false,
     "start_time": "2024-07-20T23:14:00.031521",
     "status": "completed"
    },
    "tags": []
   },
   "source": [
    "# Preprossessing"
   ]
  },
  {
   "cell_type": "code",
   "execution_count": 6,
   "id": "e13673e5",
   "metadata": {
    "execution": {
     "iopub.execute_input": "2024-07-20T23:14:00.054069Z",
     "iopub.status.busy": "2024-07-20T23:14:00.053656Z",
     "iopub.status.idle": "2024-07-20T23:14:00.062044Z",
     "shell.execute_reply": "2024-07-20T23:14:00.060906Z"
    },
    "papermill": {
     "duration": 0.019288,
     "end_time": "2024-07-20T23:14:00.064556",
     "exception": false,
     "start_time": "2024-07-20T23:14:00.045268",
     "status": "completed"
    },
    "tags": []
   },
   "outputs": [],
   "source": [
    "data['Duration'] = data['Duration'].fillna('0').astype(str)"
   ]
  },
  {
   "cell_type": "code",
   "execution_count": 7,
   "id": "21cc6cf9",
   "metadata": {
    "execution": {
     "iopub.execute_input": "2024-07-20T23:14:00.080485Z",
     "iopub.status.busy": "2024-07-20T23:14:00.080052Z",
     "iopub.status.idle": "2024-07-20T23:14:00.121973Z",
     "shell.execute_reply": "2024-07-20T23:14:00.120418Z"
    },
    "papermill": {
     "duration": 0.053136,
     "end_time": "2024-07-20T23:14:00.124845",
     "exception": false,
     "start_time": "2024-07-20T23:14:00.071709",
     "status": "completed"
    },
    "tags": []
   },
   "outputs": [],
   "source": [
    "data['Year'] = data['Year'].str.replace(r'[()]', '', regex=True)\n",
    "data['Duration'] = data['Duration'].str.replace(r'[min]', '', regex=True)\n",
    "data['Votes'] = data['Votes'].str.replace(',', '', regex=False)"
   ]
  },
  {
   "cell_type": "code",
   "execution_count": 8,
   "id": "c00656e4",
   "metadata": {
    "execution": {
     "iopub.execute_input": "2024-07-20T23:14:00.140527Z",
     "iopub.status.busy": "2024-07-20T23:14:00.140135Z",
     "iopub.status.idle": "2024-07-20T23:14:00.147992Z",
     "shell.execute_reply": "2024-07-20T23:14:00.146717Z"
    },
    "papermill": {
     "duration": 0.018437,
     "end_time": "2024-07-20T23:14:00.150345",
     "exception": false,
     "start_time": "2024-07-20T23:14:00.131908",
     "status": "completed"
    },
    "tags": []
   },
   "outputs": [],
   "source": [
    "data['Duration'] = data['Duration'].astype(int)"
   ]
  },
  {
   "cell_type": "code",
   "execution_count": 9,
   "id": "7d0580fc",
   "metadata": {
    "execution": {
     "iopub.execute_input": "2024-07-20T23:14:00.166463Z",
     "iopub.status.busy": "2024-07-20T23:14:00.165615Z",
     "iopub.status.idle": "2024-07-20T23:14:01.083150Z",
     "shell.execute_reply": "2024-07-20T23:14:01.081890Z"
    },
    "papermill": {
     "duration": 0.928543,
     "end_time": "2024-07-20T23:14:01.085811",
     "exception": false,
     "start_time": "2024-07-20T23:14:00.157268",
     "status": "completed"
    },
    "tags": []
   },
   "outputs": [
    {
     "name": "stderr",
     "output_type": "stream",
     "text": [
      "/tmp/ipykernel_18/3319944935.py:5: FutureWarning: Setting an item of incompatible dtype is deprecated and will raise an error in a future version of pandas. Value '99.5' has dtype incompatible with int64, please explicitly cast to a compatible dtype first.\n",
      "  data.loc[(data['Duration'] == 0) & (data['Genre'] == genre), 'Duration'] = median_duration\n"
     ]
    }
   ],
   "source": [
    "median_duration_by_genre = data.groupby('Genre')['Duration'].median()\n",
    "\n",
    "# Replace Duration == 0 with median duration by genre inplace\n",
    "for genre, median_duration in median_duration_by_genre.items():\n",
    "    data.loc[(data['Duration'] == 0) & (data['Genre'] == genre), 'Duration'] = median_duration"
   ]
  },
  {
   "cell_type": "code",
   "execution_count": 10,
   "id": "3643fc1e",
   "metadata": {
    "execution": {
     "iopub.execute_input": "2024-07-20T23:14:01.102037Z",
     "iopub.status.busy": "2024-07-20T23:14:01.101652Z",
     "iopub.status.idle": "2024-07-20T23:14:12.479761Z",
     "shell.execute_reply": "2024-07-20T23:14:12.478594Z"
    },
    "papermill": {
     "duration": 11.389069,
     "end_time": "2024-07-20T23:14:12.482608",
     "exception": false,
     "start_time": "2024-07-20T23:14:01.093539",
     "status": "completed"
    },
    "tags": []
   },
   "outputs": [],
   "source": [
    "median_duration_by_director = data.groupby('Director')['Duration'].median()\n",
    "\n",
    "# Replace Duration == 0 with median duration by Director inplace\n",
    "for director, median_duration in median_duration_by_director.items():\n",
    "    data.loc[(data['Duration'] == 0) & (data['Director'] == director), 'Duration'] = median_duration"
   ]
  },
  {
   "cell_type": "code",
   "execution_count": 11,
   "id": "48e20377",
   "metadata": {
    "execution": {
     "iopub.execute_input": "2024-07-20T23:14:12.499531Z",
     "iopub.status.busy": "2024-07-20T23:14:12.499121Z",
     "iopub.status.idle": "2024-07-20T23:14:39.095160Z",
     "shell.execute_reply": "2024-07-20T23:14:39.093973Z"
    },
    "papermill": {
     "duration": 26.607883,
     "end_time": "2024-07-20T23:14:39.097836",
     "exception": false,
     "start_time": "2024-07-20T23:14:12.489953",
     "status": "completed"
    },
    "tags": []
   },
   "outputs": [],
   "source": [
    "actors = ['Actor 1','Actor 2','Actor 3']\n",
    "for actor in actors:\n",
    "    median_duration_by_actor = data.groupby(actor)['Duration'].median()\n",
    "\n",
    "    for act, median_duration in median_duration_by_actor.items():\n",
    "        data.loc[(data['Duration'] == 0) & (data[actor] == act), 'Duration'] = median_duration"
   ]
  },
  {
   "cell_type": "code",
   "execution_count": 12,
   "id": "e77b0f69",
   "metadata": {
    "execution": {
     "iopub.execute_input": "2024-07-20T23:14:39.114474Z",
     "iopub.status.busy": "2024-07-20T23:14:39.113201Z",
     "iopub.status.idle": "2024-07-20T23:14:39.126048Z",
     "shell.execute_reply": "2024-07-20T23:14:39.125120Z"
    },
    "papermill": {
     "duration": 0.023606,
     "end_time": "2024-07-20T23:14:39.128530",
     "exception": false,
     "start_time": "2024-07-20T23:14:39.104924",
     "status": "completed"
    },
    "tags": []
   },
   "outputs": [],
   "source": [
    "data=data[(data['Duration'] >= 60) & (data['Duration'] <= 180)]"
   ]
  },
  {
   "cell_type": "code",
   "execution_count": 13,
   "id": "d63a4f14",
   "metadata": {
    "execution": {
     "iopub.execute_input": "2024-07-20T23:14:39.144234Z",
     "iopub.status.busy": "2024-07-20T23:14:39.143827Z",
     "iopub.status.idle": "2024-07-20T23:14:39.158312Z",
     "shell.execute_reply": "2024-07-20T23:14:39.157122Z"
    },
    "papermill": {
     "duration": 0.025205,
     "end_time": "2024-07-20T23:14:39.160799",
     "exception": false,
     "start_time": "2024-07-20T23:14:39.135594",
     "status": "completed"
    },
    "tags": []
   },
   "outputs": [],
   "source": [
    "data = data.dropna(subset=['Rating'],axis=0)\n",
    "data = data.dropna(subset=['Director'],axis=0)"
   ]
  },
  {
   "cell_type": "code",
   "execution_count": 14,
   "id": "df67959e",
   "metadata": {
    "execution": {
     "iopub.execute_input": "2024-07-20T23:14:39.176683Z",
     "iopub.status.busy": "2024-07-20T23:14:39.176268Z",
     "iopub.status.idle": "2024-07-20T23:14:39.215347Z",
     "shell.execute_reply": "2024-07-20T23:14:39.214184Z"
    },
    "papermill": {
     "duration": 0.049958,
     "end_time": "2024-07-20T23:14:39.217830",
     "exception": false,
     "start_time": "2024-07-20T23:14:39.167872",
     "status": "completed"
    },
    "tags": []
   },
   "outputs": [
    {
     "name": "stderr",
     "output_type": "stream",
     "text": [
      "/tmp/ipykernel_18/1634980499.py:3: FutureWarning: A value is trying to be set on a copy of a DataFrame or Series through chained assignment using an inplace method.\n",
      "The behavior will change in pandas 3.0. This inplace method will never work because the intermediate object on which we are setting values always behaves as a copy.\n",
      "\n",
      "For example, when doing 'df[col].method(value, inplace=True)', try using 'df.method({col: value}, inplace=True)' or df[col] = df[col].method(value) instead, to perform the operation inplace on the original object.\n",
      "\n",
      "\n",
      "  data['Genre'].fillna(data['Genre'].mode()[0], inplace=True)\n"
     ]
    }
   ],
   "source": [
    "data['Genre'] = data['Genre'].str.split(', ')\n",
    "data = data.explode('Genre')\n",
    "data['Genre'].fillna(data['Genre'].mode()[0], inplace=True)"
   ]
  },
  {
   "cell_type": "code",
   "execution_count": 15,
   "id": "96b62ed7",
   "metadata": {
    "execution": {
     "iopub.execute_input": "2024-07-20T23:14:39.234045Z",
     "iopub.status.busy": "2024-07-20T23:14:39.233192Z",
     "iopub.status.idle": "2024-07-20T23:14:39.252878Z",
     "shell.execute_reply": "2024-07-20T23:14:39.251765Z"
    },
    "papermill": {
     "duration": 0.030876,
     "end_time": "2024-07-20T23:14:39.255751",
     "exception": false,
     "start_time": "2024-07-20T23:14:39.224875",
     "status": "completed"
    },
    "tags": []
   },
   "outputs": [],
   "source": [
    "data = data.dropna()\n",
    "data['Year'] = data['Year'].astype(int)\n",
    "data['Votes'] = data['Votes'].astype(int)"
   ]
  },
  {
   "cell_type": "code",
   "execution_count": 16,
   "id": "7098b395",
   "metadata": {
    "execution": {
     "iopub.execute_input": "2024-07-20T23:14:39.272049Z",
     "iopub.status.busy": "2024-07-20T23:14:39.271601Z",
     "iopub.status.idle": "2024-07-20T23:14:39.287803Z",
     "shell.execute_reply": "2024-07-20T23:14:39.286390Z"
    },
    "papermill": {
     "duration": 0.027083,
     "end_time": "2024-07-20T23:14:39.290198",
     "exception": false,
     "start_time": "2024-07-20T23:14:39.263115",
     "status": "completed"
    },
    "tags": []
   },
   "outputs": [
    {
     "data": {
      "text/html": [
       "<div>\n",
       "<style scoped>\n",
       "    .dataframe tbody tr th:only-of-type {\n",
       "        vertical-align: middle;\n",
       "    }\n",
       "\n",
       "    .dataframe tbody tr th {\n",
       "        vertical-align: top;\n",
       "    }\n",
       "\n",
       "    .dataframe thead th {\n",
       "        text-align: right;\n",
       "    }\n",
       "</style>\n",
       "<table border=\"1\" class=\"dataframe\">\n",
       "  <thead>\n",
       "    <tr style=\"text-align: right;\">\n",
       "      <th></th>\n",
       "      <th>Name</th>\n",
       "      <th>Year</th>\n",
       "      <th>Duration</th>\n",
       "      <th>Genre</th>\n",
       "      <th>Rating</th>\n",
       "      <th>Votes</th>\n",
       "      <th>Director</th>\n",
       "      <th>Actor 1</th>\n",
       "      <th>Actor 2</th>\n",
       "      <th>Actor 3</th>\n",
       "    </tr>\n",
       "  </thead>\n",
       "  <tbody>\n",
       "    <tr>\n",
       "      <th>1</th>\n",
       "      <td>#Gadhvi (He thought he was Gandhi)</td>\n",
       "      <td>2019</td>\n",
       "      <td>109.0</td>\n",
       "      <td>Drama</td>\n",
       "      <td>7.0</td>\n",
       "      <td>8</td>\n",
       "      <td>Gaurav Bakshi</td>\n",
       "      <td>Rasika Dugal</td>\n",
       "      <td>Vivek Ghamande</td>\n",
       "      <td>Arvind Jangid</td>\n",
       "    </tr>\n",
       "    <tr>\n",
       "      <th>3</th>\n",
       "      <td>#Yaaram</td>\n",
       "      <td>2019</td>\n",
       "      <td>110.0</td>\n",
       "      <td>Comedy</td>\n",
       "      <td>4.4</td>\n",
       "      <td>35</td>\n",
       "      <td>Ovais Khan</td>\n",
       "      <td>Prateik</td>\n",
       "      <td>Ishita Raj</td>\n",
       "      <td>Siddhant Kapoor</td>\n",
       "    </tr>\n",
       "    <tr>\n",
       "      <th>3</th>\n",
       "      <td>#Yaaram</td>\n",
       "      <td>2019</td>\n",
       "      <td>110.0</td>\n",
       "      <td>Romance</td>\n",
       "      <td>4.4</td>\n",
       "      <td>35</td>\n",
       "      <td>Ovais Khan</td>\n",
       "      <td>Prateik</td>\n",
       "      <td>Ishita Raj</td>\n",
       "      <td>Siddhant Kapoor</td>\n",
       "    </tr>\n",
       "    <tr>\n",
       "      <th>5</th>\n",
       "      <td>...Aur Pyaar Ho Gaya</td>\n",
       "      <td>1997</td>\n",
       "      <td>147.0</td>\n",
       "      <td>Comedy</td>\n",
       "      <td>4.7</td>\n",
       "      <td>827</td>\n",
       "      <td>Rahul Rawail</td>\n",
       "      <td>Bobby Deol</td>\n",
       "      <td>Aishwarya Rai Bachchan</td>\n",
       "      <td>Shammi Kapoor</td>\n",
       "    </tr>\n",
       "    <tr>\n",
       "      <th>5</th>\n",
       "      <td>...Aur Pyaar Ho Gaya</td>\n",
       "      <td>1997</td>\n",
       "      <td>147.0</td>\n",
       "      <td>Drama</td>\n",
       "      <td>4.7</td>\n",
       "      <td>827</td>\n",
       "      <td>Rahul Rawail</td>\n",
       "      <td>Bobby Deol</td>\n",
       "      <td>Aishwarya Rai Bachchan</td>\n",
       "      <td>Shammi Kapoor</td>\n",
       "    </tr>\n",
       "  </tbody>\n",
       "</table>\n",
       "</div>"
      ],
      "text/plain": [
       "                                 Name  Year  Duration    Genre  Rating  Votes  \\\n",
       "1  #Gadhvi (He thought he was Gandhi)  2019     109.0    Drama     7.0      8   \n",
       "3                             #Yaaram  2019     110.0   Comedy     4.4     35   \n",
       "3                             #Yaaram  2019     110.0  Romance     4.4     35   \n",
       "5                ...Aur Pyaar Ho Gaya  1997     147.0   Comedy     4.7    827   \n",
       "5                ...Aur Pyaar Ho Gaya  1997     147.0    Drama     4.7    827   \n",
       "\n",
       "        Director       Actor 1                 Actor 2          Actor 3  \n",
       "1  Gaurav Bakshi  Rasika Dugal          Vivek Ghamande    Arvind Jangid  \n",
       "3     Ovais Khan       Prateik              Ishita Raj  Siddhant Kapoor  \n",
       "3     Ovais Khan       Prateik              Ishita Raj  Siddhant Kapoor  \n",
       "5   Rahul Rawail    Bobby Deol  Aishwarya Rai Bachchan    Shammi Kapoor  \n",
       "5   Rahul Rawail    Bobby Deol  Aishwarya Rai Bachchan    Shammi Kapoor  "
      ]
     },
     "execution_count": 16,
     "metadata": {},
     "output_type": "execute_result"
    }
   ],
   "source": [
    "data.head()"
   ]
  },
  {
   "cell_type": "code",
   "execution_count": 17,
   "id": "be31d869",
   "metadata": {
    "execution": {
     "iopub.execute_input": "2024-07-20T23:14:39.307084Z",
     "iopub.status.busy": "2024-07-20T23:14:39.306686Z",
     "iopub.status.idle": "2024-07-20T23:14:39.314858Z",
     "shell.execute_reply": "2024-07-20T23:14:39.313914Z"
    },
    "papermill": {
     "duration": 0.01923,
     "end_time": "2024-07-20T23:14:39.317154",
     "exception": false,
     "start_time": "2024-07-20T23:14:39.297924",
     "status": "completed"
    },
    "tags": []
   },
   "outputs": [],
   "source": [
    "data.drop(['Name'], axis=1, inplace=True)"
   ]
  },
  {
   "cell_type": "code",
   "execution_count": 18,
   "id": "be99b78d",
   "metadata": {
    "execution": {
     "iopub.execute_input": "2024-07-20T23:14:39.333856Z",
     "iopub.status.busy": "2024-07-20T23:14:39.333447Z",
     "iopub.status.idle": "2024-07-20T23:14:39.367478Z",
     "shell.execute_reply": "2024-07-20T23:14:39.366172Z"
    },
    "papermill": {
     "duration": 0.045509,
     "end_time": "2024-07-20T23:14:39.370104",
     "exception": false,
     "start_time": "2024-07-20T23:14:39.324595",
     "status": "completed"
    },
    "tags": []
   },
   "outputs": [],
   "source": [
    "mean_genre = data.groupby('Genre')['Rating'].transform('mean')\n",
    "data['mean_genre'] = mean_genre\n",
    "\n",
    "mean_director = data.groupby('Director')['Rating'].transform('mean')\n",
    "data['mean_director'] = mean_director\n",
    "\n",
    "mean_a1 = data.groupby('Actor 1')['Rating'].transform('mean')\n",
    "data['mean_a1'] = mean_a1\n",
    "\n",
    "mean_a2 = data.groupby('Actor 2')['Rating'].transform('mean')\n",
    "data['mean_a2'] = mean_a2\n",
    "\n",
    "mean_a3 = data.groupby('Actor 3')['Rating'].transform('mean')\n",
    "data['mean_a3'] = mean_a3"
   ]
  },
  {
   "cell_type": "markdown",
   "id": "4dd2a3ff",
   "metadata": {
    "papermill": {
     "duration": 0.007016,
     "end_time": "2024-07-20T23:14:39.384315",
     "exception": false,
     "start_time": "2024-07-20T23:14:39.377299",
     "status": "completed"
    },
    "tags": []
   },
   "source": [
    "# Model Training"
   ]
  },
  {
   "cell_type": "code",
   "execution_count": 19,
   "id": "047d9d8d",
   "metadata": {
    "execution": {
     "iopub.execute_input": "2024-07-20T23:14:39.400854Z",
     "iopub.status.busy": "2024-07-20T23:14:39.400425Z",
     "iopub.status.idle": "2024-07-20T23:14:39.408008Z",
     "shell.execute_reply": "2024-07-20T23:14:39.406694Z"
    },
    "papermill": {
     "duration": 0.018787,
     "end_time": "2024-07-20T23:14:39.410370",
     "exception": false,
     "start_time": "2024-07-20T23:14:39.391583",
     "status": "completed"
    },
    "tags": []
   },
   "outputs": [],
   "source": [
    "y = data['Rating']\n",
    "X = data.drop(['Rating','Genre','Director', 'Actor 1','Actor 2', 'Actor 3',], axis=1)"
   ]
  },
  {
   "cell_type": "code",
   "execution_count": 20,
   "id": "5d236383",
   "metadata": {
    "execution": {
     "iopub.execute_input": "2024-07-20T23:14:39.426910Z",
     "iopub.status.busy": "2024-07-20T23:14:39.426501Z",
     "iopub.status.idle": "2024-07-20T23:14:39.432150Z",
     "shell.execute_reply": "2024-07-20T23:14:39.430965Z"
    },
    "papermill": {
     "duration": 0.016636,
     "end_time": "2024-07-20T23:14:39.434436",
     "exception": false,
     "start_time": "2024-07-20T23:14:39.417800",
     "status": "completed"
    },
    "tags": []
   },
   "outputs": [],
   "source": [
    "preprocessor = ColumnTransformer(\n",
    "    transformers=[\n",
    "        ('num', StandardScaler(), X.columns) \n",
    "    ]\n",
    ")"
   ]
  },
  {
   "cell_type": "code",
   "execution_count": 21,
   "id": "48f5ce94",
   "metadata": {
    "execution": {
     "iopub.execute_input": "2024-07-20T23:14:39.451079Z",
     "iopub.status.busy": "2024-07-20T23:14:39.450669Z",
     "iopub.status.idle": "2024-07-20T23:14:39.461606Z",
     "shell.execute_reply": "2024-07-20T23:14:39.460692Z"
    },
    "papermill": {
     "duration": 0.022118,
     "end_time": "2024-07-20T23:14:39.463898",
     "exception": false,
     "start_time": "2024-07-20T23:14:39.441780",
     "status": "completed"
    },
    "tags": []
   },
   "outputs": [],
   "source": [
    "X_train, X_test, y_train, y_test = train_test_split(X, y, test_size=0.1, random_state=42)"
   ]
  },
  {
   "cell_type": "code",
   "execution_count": 22,
   "id": "5c0a9235",
   "metadata": {
    "execution": {
     "iopub.execute_input": "2024-07-20T23:14:39.480697Z",
     "iopub.status.busy": "2024-07-20T23:14:39.479746Z",
     "iopub.status.idle": "2024-07-20T23:14:39.485720Z",
     "shell.execute_reply": "2024-07-20T23:14:39.484493Z"
    },
    "papermill": {
     "duration": 0.016725,
     "end_time": "2024-07-20T23:14:39.487935",
     "exception": false,
     "start_time": "2024-07-20T23:14:39.471210",
     "status": "completed"
    },
    "tags": []
   },
   "outputs": [],
   "source": [
    "gb_pipeline = Pipeline(steps=[\n",
    "    ('preprocessor', preprocessor),\n",
    "    ('model', GradientBoostingRegressor())\n",
    "])\n",
    "\n",
    "rf_pipeline = Pipeline(steps=[\n",
    "    ('preprocessor', preprocessor),\n",
    "    ('model', RandomForestRegressor())\n",
    "])"
   ]
  },
  {
   "cell_type": "code",
   "execution_count": 23,
   "id": "4c248562",
   "metadata": {
    "execution": {
     "iopub.execute_input": "2024-07-20T23:14:39.504539Z",
     "iopub.status.busy": "2024-07-20T23:14:39.504176Z",
     "iopub.status.idle": "2024-07-20T23:27:49.838734Z",
     "shell.execute_reply": "2024-07-20T23:27:49.837488Z"
    },
    "papermill": {
     "duration": 790.353462,
     "end_time": "2024-07-20T23:27:49.848857",
     "exception": false,
     "start_time": "2024-07-20T23:14:39.495395",
     "status": "completed"
    },
    "tags": []
   },
   "outputs": [
    {
     "name": "stdout",
     "output_type": "stream",
     "text": [
      "Best Gradient Boosting Parameters: {'model__learning_rate': 0.2, 'model__max_depth': 10, 'model__n_estimators': 200}\n",
      "Best Random Forest Parameters: {'model__max_depth': 20, 'model__min_samples_split': 2, 'model__n_estimators': 200}\n",
      "\n",
      "\n",
      "\n",
      "Optimized Gradient Boosting Regressor Mean Squared Error: 0.07599843713808607\n",
      "Optimized Gradient Boosting Regressor R² Score: 0.9589523932771568\n",
      "\n",
      "\n",
      "\n",
      "Optimized Random Forest Regressor Mean Squared Error: 0.10123301772292301\n",
      "Optimized Random Forest Regressor R² Score: 0.9453229137948321\n"
     ]
    }
   ],
   "source": [
    "gb_param_grid = {\n",
    "    'model__n_estimators': [200,250, 300],\n",
    "    'model__learning_rate': [0.2, 0.3, 0.4],\n",
    "    'model__max_depth': [ 7,10,13]\n",
    "}\n",
    "\n",
    "rf_param_grid = {\n",
    "    'model__n_estimators': [200,250, 300],\n",
    "    'model__max_depth': [5, 10, 20],\n",
    "    'model__min_samples_split': [2, 5, 10]\n",
    "}\n",
    "\n",
    "# Create GridSearchCV objects\n",
    "gb_grid_search = GridSearchCV(estimator=gb_pipeline, param_grid=gb_param_grid, cv=2, scoring='r2')\n",
    "rf_grid_search = GridSearchCV(estimator=rf_pipeline, param_grid=rf_param_grid, cv=2, scoring='r2')\n",
    "\n",
    "# Fit GridSearchCV\n",
    "gb_grid_search.fit(X_train, y_train)\n",
    "rf_grid_search.fit(X_train, y_train)\n",
    "\n",
    "# Get the best models and parameters\n",
    "best_gb_model = gb_grid_search.best_estimator_\n",
    "best_rf_model = rf_grid_search.best_estimator_\n",
    "\n",
    "print(f\"Best Gradient Boosting Parameters: {gb_grid_search.best_params_}\")\n",
    "print(f\"Best Random Forest Parameters: {rf_grid_search.best_params_}\")\n",
    "print('\\n\\n')\n",
    "\n",
    "# Predict with the best models\n",
    "gb_y_pred = best_gb_model.predict(X_test)\n",
    "rf_y_pred = best_rf_model.predict(X_test)\n",
    "\n",
    "# Evaluate the models\n",
    "gb_mse = mean_squared_error(y_test, gb_y_pred)\n",
    "gb_r2 = r2_score(y_test, gb_y_pred)\n",
    "print(f\"Optimized Gradient Boosting Regressor Mean Squared Error: {gb_mse}\")\n",
    "print(f\"Optimized Gradient Boosting Regressor R² Score: {gb_r2}\")\n",
    "print('\\n\\n')\n",
    "\n",
    "rf_mse = mean_squared_error(y_test, rf_y_pred)\n",
    "rf_r2 = r2_score(y_test, rf_y_pred)\n",
    "print(f\"Optimized Random Forest Regressor Mean Squared Error: {rf_mse}\")\n",
    "print(f\"Optimized Random Forest Regressor R² Score: {rf_r2}\")"
   ]
  },
  {
   "cell_type": "code",
   "execution_count": 24,
   "id": "29fb9062",
   "metadata": {
    "execution": {
     "iopub.execute_input": "2024-07-20T23:27:49.865835Z",
     "iopub.status.busy": "2024-07-20T23:27:49.865381Z",
     "iopub.status.idle": "2024-07-20T23:27:50.166599Z",
     "shell.execute_reply": "2024-07-20T23:27:50.165397Z"
    },
    "papermill": {
     "duration": 0.313221,
     "end_time": "2024-07-20T23:27:50.169451",
     "exception": false,
     "start_time": "2024-07-20T23:27:49.856230",
     "status": "completed"
    },
    "tags": []
   },
   "outputs": [
    {
     "data": {
      "text/plain": [
       "['best_rf_model.pkl']"
      ]
     },
     "execution_count": 24,
     "metadata": {},
     "output_type": "execute_result"
    }
   ],
   "source": [
    "# Save the best models\n",
    "joblib.dump(best_gb_model, 'best_gb_model.pkl')\n",
    "joblib.dump(best_rf_model, 'best_rf_model.pkl')"
   ]
  },
  {
   "cell_type": "code",
   "execution_count": null,
   "id": "6f4d43b8",
   "metadata": {
    "papermill": {
     "duration": 0.007848,
     "end_time": "2024-07-20T23:27:50.184840",
     "exception": false,
     "start_time": "2024-07-20T23:27:50.176992",
     "status": "completed"
    },
    "tags": []
   },
   "outputs": [],
   "source": []
  }
 ],
 "metadata": {
  "kaggle": {
   "accelerator": "none",
   "dataSources": [
    {
     "datasetId": 1416444,
     "sourceId": 2346296,
     "sourceType": "datasetVersion"
    }
   ],
   "dockerImageVersionId": 30746,
   "isGpuEnabled": false,
   "isInternetEnabled": false,
   "language": "python",
   "sourceType": "notebook"
  },
  "kernelspec": {
   "display_name": "Python 3",
   "language": "python",
   "name": "python3"
  },
  "language_info": {
   "codemirror_mode": {
    "name": "ipython",
    "version": 3
   },
   "file_extension": ".py",
   "mimetype": "text/x-python",
   "name": "python",
   "nbconvert_exporter": "python",
   "pygments_lexer": "ipython3",
   "version": "3.10.13"
  },
  "papermill": {
   "default_parameters": {},
   "duration": 836.526693,
   "end_time": "2024-07-20T23:27:50.816688",
   "environment_variables": {},
   "exception": null,
   "input_path": "__notebook__.ipynb",
   "output_path": "__notebook__.ipynb",
   "parameters": {},
   "start_time": "2024-07-20T23:13:54.289995",
   "version": "2.5.0"
  }
 },
 "nbformat": 4,
 "nbformat_minor": 5
}
